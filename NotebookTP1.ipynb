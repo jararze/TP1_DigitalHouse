{
 "cells": [
  {
   "cell_type": "code",
   "execution_count": 1,
   "metadata": {},
   "outputs": [],
   "source": [
    "##Importar bibliotecas a utilizar\n",
    "import pandas as pd\n",
    "import numpy as np\n",
    "import datetime"
   ]
  },
  {
   "cell_type": "code",
   "execution_count": 2,
   "metadata": {},
   "outputs": [
    {
     "data": {
      "text/html": [
       "<div>\n",
       "<style scoped>\n",
       "    .dataframe tbody tr th:only-of-type {\n",
       "        vertical-align: middle;\n",
       "    }\n",
       "\n",
       "    .dataframe tbody tr th {\n",
       "        vertical-align: top;\n",
       "    }\n",
       "\n",
       "    .dataframe thead th {\n",
       "        text-align: right;\n",
       "    }\n",
       "</style>\n",
       "<table border=\"1\" class=\"dataframe\">\n",
       "  <thead>\n",
       "    <tr style=\"text-align: right;\">\n",
       "      <th></th>\n",
       "      <th>Unnamed: 0</th>\n",
       "      <th>operation</th>\n",
       "      <th>property_type</th>\n",
       "      <th>place_name</th>\n",
       "      <th>place_with_parent_names</th>\n",
       "      <th>country_name</th>\n",
       "      <th>state_name</th>\n",
       "      <th>geonames_id</th>\n",
       "      <th>lat-lon</th>\n",
       "      <th>lat</th>\n",
       "      <th>...</th>\n",
       "      <th>surface_covered_in_m2</th>\n",
       "      <th>price_usd_per_m2</th>\n",
       "      <th>price_per_m2</th>\n",
       "      <th>floor</th>\n",
       "      <th>rooms</th>\n",
       "      <th>expenses</th>\n",
       "      <th>properati_url</th>\n",
       "      <th>description</th>\n",
       "      <th>title</th>\n",
       "      <th>image_thumbnail</th>\n",
       "    </tr>\n",
       "  </thead>\n",
       "  <tbody>\n",
       "    <tr>\n",
       "      <th>0</th>\n",
       "      <td>0</td>\n",
       "      <td>sell</td>\n",
       "      <td>PH</td>\n",
       "      <td>Mataderos</td>\n",
       "      <td>|Argentina|Capital Federal|Mataderos|</td>\n",
       "      <td>Argentina</td>\n",
       "      <td>Capital Federal</td>\n",
       "      <td>3430787.0</td>\n",
       "      <td>-34.6618237,-58.5088387</td>\n",
       "      <td>-34.661824</td>\n",
       "      <td>...</td>\n",
       "      <td>40.0</td>\n",
       "      <td>1127.272727</td>\n",
       "      <td>1550.000000</td>\n",
       "      <td>NaN</td>\n",
       "      <td>NaN</td>\n",
       "      <td>NaN</td>\n",
       "      <td>http://www.properati.com.ar/15bo8_venta_ph_mat...</td>\n",
       "      <td>2 AMBIENTES TIPO CASA PLANTA BAJA POR PASILLO,...</td>\n",
       "      <td>2 AMB TIPO CASA SIN EXPENSAS EN PB</td>\n",
       "      <td>https://thumbs4.properati.com/8/BluUYiHJLhgIIK...</td>\n",
       "    </tr>\n",
       "    <tr>\n",
       "      <th>1</th>\n",
       "      <td>1</td>\n",
       "      <td>sell</td>\n",
       "      <td>apartment</td>\n",
       "      <td>La Plata</td>\n",
       "      <td>|Argentina|Bs.As. G.B.A. Zona Sur|La Plata|</td>\n",
       "      <td>Argentina</td>\n",
       "      <td>Bs.As. G.B.A. Zona Sur</td>\n",
       "      <td>3432039.0</td>\n",
       "      <td>-34.9038831,-57.9643295</td>\n",
       "      <td>-34.903883</td>\n",
       "      <td>...</td>\n",
       "      <td>NaN</td>\n",
       "      <td>NaN</td>\n",
       "      <td>NaN</td>\n",
       "      <td>NaN</td>\n",
       "      <td>NaN</td>\n",
       "      <td>NaN</td>\n",
       "      <td>http://www.properati.com.ar/15bob_venta_depart...</td>\n",
       "      <td>Venta de departamento en décimo piso al frente...</td>\n",
       "      <td>VENTA Depto 2 dorm. a estrenar 7 e/ 36 y 37   ...</td>\n",
       "      <td>https://thumbs4.properati.com/7/ikpVBu2ztHA7jv...</td>\n",
       "    </tr>\n",
       "    <tr>\n",
       "      <th>2</th>\n",
       "      <td>2</td>\n",
       "      <td>sell</td>\n",
       "      <td>apartment</td>\n",
       "      <td>Mataderos</td>\n",
       "      <td>|Argentina|Capital Federal|Mataderos|</td>\n",
       "      <td>Argentina</td>\n",
       "      <td>Capital Federal</td>\n",
       "      <td>3430787.0</td>\n",
       "      <td>-34.6522615,-58.5229825</td>\n",
       "      <td>-34.652262</td>\n",
       "      <td>...</td>\n",
       "      <td>55.0</td>\n",
       "      <td>1309.090909</td>\n",
       "      <td>1309.090909</td>\n",
       "      <td>NaN</td>\n",
       "      <td>NaN</td>\n",
       "      <td>NaN</td>\n",
       "      <td>http://www.properati.com.ar/15bod_venta_depart...</td>\n",
       "      <td>2 AMBIENTES 3ER PISO LATERAL LIVING COMEDOR AM...</td>\n",
       "      <td>2 AMB 3ER PISO CON ASCENSOR APTO CREDITO</td>\n",
       "      <td>https://thumbs4.properati.com/5/SXKr34F_IwG3W_...</td>\n",
       "    </tr>\n",
       "  </tbody>\n",
       "</table>\n",
       "<p>3 rows × 26 columns</p>\n",
       "</div>"
      ],
      "text/plain": [
       "   Unnamed: 0 operation property_type place_name  \\\n",
       "0           0      sell            PH  Mataderos   \n",
       "1           1      sell     apartment   La Plata   \n",
       "2           2      sell     apartment  Mataderos   \n",
       "\n",
       "                       place_with_parent_names country_name  \\\n",
       "0        |Argentina|Capital Federal|Mataderos|    Argentina   \n",
       "1  |Argentina|Bs.As. G.B.A. Zona Sur|La Plata|    Argentina   \n",
       "2        |Argentina|Capital Federal|Mataderos|    Argentina   \n",
       "\n",
       "               state_name  geonames_id                  lat-lon        lat  \\\n",
       "0         Capital Federal    3430787.0  -34.6618237,-58.5088387 -34.661824   \n",
       "1  Bs.As. G.B.A. Zona Sur    3432039.0  -34.9038831,-57.9643295 -34.903883   \n",
       "2         Capital Federal    3430787.0  -34.6522615,-58.5229825 -34.652262   \n",
       "\n",
       "   ...  surface_covered_in_m2  price_usd_per_m2 price_per_m2  floor  rooms  \\\n",
       "0  ...                   40.0       1127.272727  1550.000000    NaN    NaN   \n",
       "1  ...                    NaN               NaN          NaN    NaN    NaN   \n",
       "2  ...                   55.0       1309.090909  1309.090909    NaN    NaN   \n",
       "\n",
       "   expenses                                      properati_url  \\\n",
       "0       NaN  http://www.properati.com.ar/15bo8_venta_ph_mat...   \n",
       "1       NaN  http://www.properati.com.ar/15bob_venta_depart...   \n",
       "2       NaN  http://www.properati.com.ar/15bod_venta_depart...   \n",
       "\n",
       "                                         description  \\\n",
       "0  2 AMBIENTES TIPO CASA PLANTA BAJA POR PASILLO,...   \n",
       "1  Venta de departamento en décimo piso al frente...   \n",
       "2  2 AMBIENTES 3ER PISO LATERAL LIVING COMEDOR AM...   \n",
       "\n",
       "                                               title  \\\n",
       "0                 2 AMB TIPO CASA SIN EXPENSAS EN PB   \n",
       "1  VENTA Depto 2 dorm. a estrenar 7 e/ 36 y 37   ...   \n",
       "2           2 AMB 3ER PISO CON ASCENSOR APTO CREDITO   \n",
       "\n",
       "                                     image_thumbnail  \n",
       "0  https://thumbs4.properati.com/8/BluUYiHJLhgIIK...  \n",
       "1  https://thumbs4.properati.com/7/ikpVBu2ztHA7jv...  \n",
       "2  https://thumbs4.properati.com/5/SXKr34F_IwG3W_...  \n",
       "\n",
       "[3 rows x 26 columns]"
      ]
     },
     "execution_count": 2,
     "metadata": {},
     "output_type": "execute_result"
    }
   ],
   "source": [
    "## Importar datos\n",
    "data_location = \"properati.csv\"\n",
    "data = pd.read_csv(data_location, sep=\",\")\n",
    "##Visualizar datos\n",
    "data.head(3)"
   ]
  },
  {
   "cell_type": "code",
   "execution_count": 3,
   "metadata": {},
   "outputs": [
    {
     "data": {
      "text/plain": [
       "Capital Federal                 32316\n",
       "Bs.As. G.B.A. Zona Norte        25560\n",
       "Bs.As. G.B.A. Zona Sur          13952\n",
       "Córdoba                         12069\n",
       "Santa Fe                        10172\n",
       "Buenos Aires Costa Atlántica    10006\n",
       "Bs.As. G.B.A. Zona Oeste         9322\n",
       "Buenos Aires Interior            2291\n",
       "Río Negro                         808\n",
       "Neuquén                           733\n",
       "Mendoza                           681\n",
       "Tucumán                           674\n",
       "Corrientes                        583\n",
       "Misiones                          464\n",
       "Entre Ríos                        369\n",
       "Salta                             278\n",
       "Chubut                            259\n",
       "San Luis                          252\n",
       "La Pampa                          157\n",
       "Formosa                            65\n",
       "Chaco                              57\n",
       "San Juan                           40\n",
       "Tierra Del Fuego                   31\n",
       "Catamarca                          27\n",
       "Jujuy                              26\n",
       "Santa Cruz                         20\n",
       "Santiago Del Estero                 4\n",
       "La Rioja                            4\n",
       "Name: state_name, dtype: int64"
      ]
     },
     "execution_count": 3,
     "metadata": {},
     "output_type": "execute_result"
    }
   ],
   "source": [
    "##Visualizar datos por \"Provincia\" para elegir grupo de datos a analizar\n",
    "data[\"state_name\"].value_counts()"
   ]
  },
  {
   "cell_type": "code",
   "execution_count": 4,
   "metadata": {},
   "outputs": [
    {
     "name": "stdout",
     "output_type": "stream",
     "text": [
      "Unnamed: 0                       0\n",
      "operation                        0\n",
      "property_type                    0\n",
      "place_name                       0\n",
      "place_with_parent_names          0\n",
      "country_name                     0\n",
      "state_name                       0\n",
      "geonames_id                   1069\n",
      "lat-lon                       1801\n",
      "lat                           1801\n",
      "lon                           1801\n",
      "price                          947\n",
      "currency                       947\n",
      "price_aprox_local_currency     947\n",
      "price_aprox_usd                947\n",
      "surface_total_in_m2           3021\n",
      "surface_covered_in_m2         2471\n",
      "price_usd_per_m2              3656\n",
      "price_per_m2                  3082\n",
      "floor                         9843\n",
      "rooms                         2360\n",
      "expenses                      9566\n",
      "properati_url                    0\n",
      "description                      0\n",
      "title                            0\n",
      "image_thumbnail                 99\n",
      "dtype: int64\n"
     ]
    },
    {
     "data": {
      "text/plain": [
       "(10006, 26)"
      ]
     },
     "execution_count": 4,
     "metadata": {},
     "output_type": "execute_result"
    }
   ],
   "source": [
    "## Elegimos Buenos Aires Costa Atlantica por contar con una buena canitdad de datos (mas de 10 mil) y salir un poco del \n",
    "## mercado mas comun de AMBA.\n",
    "\n",
    "## Generamos mascara para filtrar los datos\n",
    "mask_costa = data[\"state_name\"]==\"Buenos Aires Costa Atlántica\"\n",
    "## Filtramos datos seleccionados\n",
    "data_costa = data[mask_costa]\n",
    "data_costa.head(3)\n",
    "\n",
    "## Revisamos los nulos de los datos seleccionados\n",
    "is_null = data_costa.isnull()\n",
    "cant_nulls = is_null.sum()\n",
    "print(cant_nulls)\n",
    "data_costa.shape"
   ]
  },
  {
   "cell_type": "code",
   "execution_count": 8,
   "metadata": {},
   "outputs": [
    {
     "data": {
      "text/plain": [
       "2.0     2425\n",
       "3.0     2172\n",
       "4.0     1235\n",
       "1.0      966\n",
       "5.0      566\n",
       "6.0      174\n",
       "7.0       59\n",
       "8.0       25\n",
       "10.0      17\n",
       "9.0        5\n",
       "16.0       1\n",
       "14.0       1\n",
       "Name: rooms, dtype: int64"
      ]
     },
     "execution_count": 8,
     "metadata": {},
     "output_type": "execute_result"
    }
   ],
   "source": [
    "## Exploracion de datos para analizar posibles oportunidades de limpieza de datos\n",
    "data_costa[\"property_type\"].value_counts()\n",
    "data_costa[\"expenses\"].value_counts()\n",
    "data_costa[\"rooms\"].value_counts()"
   ]
  },
  {
   "cell_type": "code",
   "execution_count": 6,
   "metadata": {},
   "outputs": [
    {
     "name": "stdout",
     "output_type": "stream",
     "text": [
      "El porcetaje de nulos del dato Expensas en el total de los datos de propiedades en la costa es:95.60263841694983\n",
      "El porcetaje de nulos del dato Expensas de departamentos de los datos de propiedades en la costa es:93.60780065005417\n",
      "(10006, 26)\n",
      "(10006, 25)\n"
     ]
    }
   ],
   "source": [
    "## Limpieza datos Expensas\n",
    "## Datos Expensas General\n",
    "cant_datos_expenses = data_costa[\"expenses\"].shape[0]\n",
    "is_null_expenses = data_costa[\"expenses\"].isnull()\n",
    "cant_nulls_expenses = is_null_expenses.sum()\n",
    "porcentaje_null_expenses = cant_nulls_expenses/cant_datos_expenses*100\n",
    "print(\"El porcetaje de nulos del dato Expensas en el total de los datos de propiedades en la costa es:\" + str(porcentaje_null_expenses))\n",
    "\n",
    "## Datos Expensas Departamentos\n",
    "mask_dptos = data_costa[\"property_type\"]==\"apartment\"\n",
    "data_costa_dptos = data_costa[mask_dptos]\n",
    "\n",
    "cant_datos_expenses_dpto = data_costa_dptos[\"expenses\"].shape[0]\n",
    "is_null_expenses_dpto = data_costa_dptos[\"expenses\"].isnull()\n",
    "cant_nulls_expenses_dpto = is_null_expenses_dpto.sum()\n",
    "porcentaje_null_expenses_dpto = cant_nulls_expenses_dpto/cant_datos_expenses_dpto*100\n",
    "\n",
    "print(\"El porcetaje de nulos del dato Expensas de departamentos de los datos de propiedades en la costa es:\" + str(porcentaje_null_expenses_dpto))\n",
    "\n",
    "## Dado que el % de nulos en la columna de expensas es alta tanto para todas las propiedades como para los \n",
    "## departamentos elegimos retirar la columna del data set\n",
    "\n",
    "data_costa_limpia = data_costa\n",
    "data_costa_limpia = data_costa_limpia.drop(labels =\"expenses\", axis = 1)\n",
    "\n",
    "print(data_costa.shape)\n",
    "print(data_costa_limpia.shape)\n",
    "#data_costa_limpia.head(3)"
   ]
  },
  {
   "cell_type": "code",
   "execution_count": 7,
   "metadata": {},
   "outputs": [
    {
     "name": "stdout",
     "output_type": "stream",
     "text": [
      "El porcetaje de nulos del dato Floor en el total de los datos de propiedades en la costa es:98.37097741355187\n",
      "El porcetaje de nulos del dato floor de departamentos de los datos de propiedades en la costa es:97.60099055873704\n",
      "(10006, 26)\n",
      "(10006, 24)\n"
     ]
    }
   ],
   "source": [
    "## Limpieza datos piso ubicacion\n",
    "## Datos Expensas General\n",
    "cant_datos_floor = data_costa[\"floor\"].shape[0]\n",
    "is_null_floor = data_costa[\"floor\"].isnull()\n",
    "cant_nulls_floor = is_null_floor.sum()\n",
    "porcentaje_null_floor = cant_nulls_floor/cant_datos_floor*100\n",
    "print(\"El porcetaje de nulos del dato Floor en el total de los datos de propiedades en la costa es:\" + str(porcentaje_null_floor))\n",
    "\n",
    "## Datos Floor Departamentos\n",
    "mask_dptos_floor = data_costa[\"property_type\"]==\"apartment\"\n",
    "data_costa_floor_dptos = data_costa[mask_dptos_floor]\n",
    "\n",
    "cant_datos_floor_dpto = data_costa_floor_dptos[\"floor\"].shape[0]\n",
    "is_null_floor_dpto = data_costa_floor_dptos[\"floor\"].isnull()\n",
    "cant_nulls_floor_dpto = is_null_floor_dpto.sum()\n",
    "porcentaje_null_floor_dpto = cant_nulls_floor_dpto/cant_datos_floor_dpto*100\n",
    "\n",
    "print(\"El porcetaje de nulos del dato floor de departamentos de los datos de propiedades en la costa es:\" + str(porcentaje_null_floor_dpto))\n",
    "\n",
    "## Dado que el % de nulos en la columna de expensas es alta tanto para todas las propiedades como para los \n",
    "## departamentos elegimos retirar la columna del data set\n",
    "\n",
    "data_costa_limpia = data_costa_limpia.drop(labels =\"floor\", axis = 1)\n",
    "\n",
    "print(data_costa.shape)\n",
    "print(data_costa_limpia.shape)\n",
    "#data_costa_limpia.head(3)"
   ]
  },
  {
   "cell_type": "code",
   "execution_count": null,
   "metadata": {},
   "outputs": [],
   "source": []
  },
  {
   "cell_type": "code",
   "execution_count": null,
   "metadata": {},
   "outputs": [],
   "source": []
  },
  {
   "cell_type": "code",
   "execution_count": null,
   "metadata": {},
   "outputs": [],
   "source": []
  },
  {
   "cell_type": "code",
   "execution_count": null,
   "metadata": {},
   "outputs": [],
   "source": []
  }
 ],
 "metadata": {
  "kernelspec": {
   "display_name": "Python 3",
   "language": "python",
   "name": "python3"
  },
  "language_info": {
   "codemirror_mode": {
    "name": "ipython",
    "version": 3
   },
   "file_extension": ".py",
   "mimetype": "text/x-python",
   "name": "python",
   "nbconvert_exporter": "python",
   "pygments_lexer": "ipython3",
   "version": "3.8.3"
  }
 },
 "nbformat": 4,
 "nbformat_minor": 4
}
